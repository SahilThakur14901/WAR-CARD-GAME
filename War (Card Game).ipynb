{
 "cells": [
  {
   "cell_type": "code",
   "execution_count": 29,
   "metadata": {},
   "outputs": [],
   "source": [
    "#create a dictionary to store values corresponding to the rank of the card\n",
    "\n",
    "values = {'Two':2, 'Three':3, 'Four':4, 'Five':5, 'Six':6, 'Seven':7, 'Eight':8, 'Nine':9, \n",
    "          'Ten':10, 'Jack':11, 'Queen':12, 'King':13, 'Ace':14}\n",
    "\n",
    "suits = ('Hearts', 'Diamonds', 'Spades', 'Clubs')\n",
    "\n",
    "ranks = ('Two', 'Three', 'Four', 'Five', 'Six', 'Seven', 'Eight', 'Nine', 'Ten', 'Jack', 'Queen', 'King', 'Ace')"
   ]
  },
  {
   "cell_type": "code",
   "execution_count": 147,
   "metadata": {},
   "outputs": [],
   "source": [
    "import random             #for shuffle function"
   ]
  },
  {
   "cell_type": "code",
   "execution_count": null,
   "metadata": {},
   "outputs": [],
   "source": []
  },
  {
   "cell_type": "code",
   "execution_count": 148,
   "metadata": {},
   "outputs": [],
   "source": [
    "#card class\n",
    "\n",
    "#suit of the card\n",
    "#rank of the card\n",
    "#integer value corresponding to the rank\n",
    "\n",
    "class Card:\n",
    "    \n",
    "    def __init__(self,suit,rank):\n",
    "        self.suit = suit\n",
    "        self.rank = rank\n",
    "        self.value = values[rank]\n",
    "        \n",
    "    def __str__(self):\n",
    "        return self.rank + ' of ' + self.suit    "
   ]
  },
  {
   "cell_type": "code",
   "execution_count": 149,
   "metadata": {},
   "outputs": [
    {
     "name": "stdout",
     "output_type": "stream",
     "text": [
      "Two of Hearts\n"
     ]
    }
   ],
   "source": [
    "two_hearts = Card('Hearts','Two')\n",
    "\n",
    "print(two_hearts)"
   ]
  },
  {
   "cell_type": "code",
   "execution_count": 150,
   "metadata": {},
   "outputs": [
    {
     "data": {
      "text/plain": [
       "2"
      ]
     },
     "execution_count": 150,
     "metadata": {},
     "output_type": "execute_result"
    }
   ],
   "source": [
    "values[two_hearts.rank]"
   ]
  },
  {
   "cell_type": "code",
   "execution_count": 151,
   "metadata": {},
   "outputs": [
    {
     "data": {
      "text/plain": [
       "True"
      ]
     },
     "execution_count": 151,
     "metadata": {},
     "output_type": "execute_result"
    }
   ],
   "source": [
    "two_hearts.value<three_clubs.value"
   ]
  },
  {
   "cell_type": "code",
   "execution_count": null,
   "metadata": {},
   "outputs": [],
   "source": []
  },
  {
   "cell_type": "code",
   "execution_count": null,
   "metadata": {},
   "outputs": [],
   "source": []
  },
  {
   "cell_type": "code",
   "execution_count": null,
   "metadata": {},
   "outputs": [],
   "source": []
  },
  {
   "cell_type": "code",
   "execution_count": 152,
   "metadata": {},
   "outputs": [],
   "source": [
    "#Deck class\n",
    "\n",
    "#instantiate a new deck\n",
    "#hold the cards as a list of new objects\n",
    "#shuffle the deck through random.shuffle\n",
    "#deal cards from the deck object using pop()\n",
    "\n",
    "class Deck():\n",
    "    \n",
    "    def __init__(self):                              #fn to store all cards in the form of a list\n",
    "        \n",
    "        self.all_cards = []\n",
    "        \n",
    "        for suit in suits:\n",
    "            for rank in ranks:\n",
    "                card = Card(suit,rank)               #creating cards based on suits and ranks\n",
    "                self.all_cards.append(card)          #appending the list with all card objects\n",
    "                \n",
    "    def shuffle_deck(self):                          #fn to shuffle the deck of card objects\n",
    "        \n",
    "        random.shuffle(self.all_cards)  \n",
    "        \n",
    "    def deal_one(self):                              #fn to deal a new card (pop it off the list of objects)\n",
    "        \n",
    "         return self.all_cards.pop()"
   ]
  },
  {
   "cell_type": "code",
   "execution_count": 153,
   "metadata": {},
   "outputs": [],
   "source": [
    "newdeck = Deck()"
   ]
  },
  {
   "cell_type": "code",
   "execution_count": 154,
   "metadata": {},
   "outputs": [
    {
     "name": "stdout",
     "output_type": "stream",
     "text": [
      "Two of Hearts\n"
     ]
    }
   ],
   "source": [
    "print(newdeck.all_cards[0])"
   ]
  },
  {
   "cell_type": "code",
   "execution_count": 155,
   "metadata": {},
   "outputs": [],
   "source": [
    "newdeck.shuffle_deck()"
   ]
  },
  {
   "cell_type": "code",
   "execution_count": 156,
   "metadata": {},
   "outputs": [
    {
     "name": "stdout",
     "output_type": "stream",
     "text": [
      "Ten of Hearts\n"
     ]
    }
   ],
   "source": [
    "print(newdeck.all_cards[0])"
   ]
  },
  {
   "cell_type": "code",
   "execution_count": 157,
   "metadata": {},
   "outputs": [],
   "source": [
    "my_card = newdeck.deal_one()"
   ]
  },
  {
   "cell_type": "code",
   "execution_count": 158,
   "metadata": {},
   "outputs": [
    {
     "name": "stdout",
     "output_type": "stream",
     "text": [
      "Jack of Hearts\n"
     ]
    }
   ],
   "source": [
    "print(my_card)"
   ]
  },
  {
   "cell_type": "code",
   "execution_count": 159,
   "metadata": {},
   "outputs": [
    {
     "data": {
      "text/plain": [
       "<__main__.Card at 0x2cb525570d0>"
      ]
     },
     "execution_count": 159,
     "metadata": {},
     "output_type": "execute_result"
    }
   ],
   "source": [
    "my_card"
   ]
  },
  {
   "cell_type": "code",
   "execution_count": 160,
   "metadata": {},
   "outputs": [
    {
     "data": {
      "text/plain": [
       "51"
      ]
     },
     "execution_count": 160,
     "metadata": {},
     "output_type": "execute_result"
    }
   ],
   "source": [
    "len(newdeck.all_cards)                      #proof that the card has been popped off"
   ]
  },
  {
   "cell_type": "code",
   "execution_count": null,
   "metadata": {},
   "outputs": [],
   "source": []
  },
  {
   "cell_type": "code",
   "execution_count": null,
   "metadata": {},
   "outputs": [],
   "source": []
  },
  {
   "cell_type": "code",
   "execution_count": null,
   "metadata": {},
   "outputs": [],
   "source": []
  },
  {
   "cell_type": "code",
   "execution_count": 161,
   "metadata": {},
   "outputs": [],
   "source": [
    "#Player Class\n",
    "\n",
    "#hold the list of cards\n",
    "#add or remove cards from the list\n",
    "#be able to add a single or MULTIPLE cards in their deck\n",
    "\n",
    "class Player:\n",
    "    \n",
    "    def __init__(self,name):\n",
    "        \n",
    "        self.name = name \n",
    "        self.all_cards = []\n",
    "        \n",
    "    def remove_one(self):\n",
    "        \n",
    "        return self.all_cards.pop(0)                  #because the card is to be removed from the top of the deck\n",
    "    \n",
    "    def add_cards(self,new_cards):\n",
    "        \n",
    "        if type(new_cards) == type([]):               #in case of multiple card objects\n",
    "            self.all_cards.extend(new_cards)\n",
    "        else:                                         #in case of a single card object\n",
    "            self.all_cards.append(new_cards)\n",
    "    \n",
    "    def __str__(self):\n",
    "        \n",
    "        return f'{self.name} has {len(self.all_cards)} cards'"
   ]
  },
  {
   "cell_type": "code",
   "execution_count": 162,
   "metadata": {},
   "outputs": [
    {
     "name": "stdout",
     "output_type": "stream",
     "text": [
      "Jose has 0 cards\n"
     ]
    }
   ],
   "source": [
    "new_player = Player('Jose')\n",
    "\n",
    "print(new_player)"
   ]
  },
  {
   "cell_type": "code",
   "execution_count": 163,
   "metadata": {},
   "outputs": [
    {
     "name": "stdout",
     "output_type": "stream",
     "text": [
      "Jack of Hearts\n"
     ]
    }
   ],
   "source": [
    "print(my_card)"
   ]
  },
  {
   "cell_type": "code",
   "execution_count": 164,
   "metadata": {},
   "outputs": [],
   "source": [
    "new_player.add_cards(my_card)"
   ]
  },
  {
   "cell_type": "code",
   "execution_count": 165,
   "metadata": {},
   "outputs": [
    {
     "name": "stdout",
     "output_type": "stream",
     "text": [
      "Jose has 1 cards\n"
     ]
    }
   ],
   "source": [
    "print(new_player)"
   ]
  },
  {
   "cell_type": "code",
   "execution_count": 166,
   "metadata": {},
   "outputs": [
    {
     "name": "stdout",
     "output_type": "stream",
     "text": [
      "Jack of Hearts\n"
     ]
    }
   ],
   "source": [
    "print(new_player.all_cards[0])"
   ]
  },
  {
   "cell_type": "code",
   "execution_count": 167,
   "metadata": {},
   "outputs": [],
   "source": [
    "new_player.add_cards([my_card,my_card,my_card])"
   ]
  },
  {
   "cell_type": "code",
   "execution_count": 168,
   "metadata": {},
   "outputs": [
    {
     "name": "stdout",
     "output_type": "stream",
     "text": [
      "Jose has 4 cards\n"
     ]
    }
   ],
   "source": [
    "print(new_player)"
   ]
  },
  {
   "cell_type": "code",
   "execution_count": 169,
   "metadata": {},
   "outputs": [
    {
     "data": {
      "text/plain": [
       "<__main__.Card at 0x2cb525570d0>"
      ]
     },
     "execution_count": 169,
     "metadata": {},
     "output_type": "execute_result"
    }
   ],
   "source": [
    "new_player.remove_one()"
   ]
  },
  {
   "cell_type": "code",
   "execution_count": 170,
   "metadata": {},
   "outputs": [
    {
     "name": "stdout",
     "output_type": "stream",
     "text": [
      "Jose has 3 cards\n"
     ]
    }
   ],
   "source": [
    "print(new_player)"
   ]
  },
  {
   "cell_type": "code",
   "execution_count": null,
   "metadata": {},
   "outputs": [],
   "source": []
  },
  {
   "cell_type": "code",
   "execution_count": null,
   "metadata": {},
   "outputs": [],
   "source": []
  },
  {
   "cell_type": "code",
   "execution_count": null,
   "metadata": {},
   "outputs": [],
   "source": []
  },
  {
   "cell_type": "code",
   "execution_count": 171,
   "metadata": {},
   "outputs": [],
   "source": [
    "#ACTUAL LOGIC\n",
    "\n",
    "#create 2 instances of Player Class\n",
    "#create an instance of Deck Class\n",
    "#shuffle the deck and split it between the 2 players\n",
    "#check if any of the players has 0 cards (loss condition)\n",
    "    #NO - game can continue\n",
    "#while game_on = False:\n",
    "    #each player removes the card\n",
    "    #compare cards\n",
    "        #NOT TIE - player with higher card value wins\n",
    "            #both cards go to the bottom of the deck of the winner\n",
    "        #TIE - WAR\n",
    "            #while_at_war:\n",
    "                #keep drawing three cards\n",
    "                #compare\n",
    "            #whichever player wins, break\n",
    "#check for win"
   ]
  },
  {
   "cell_type": "code",
   "execution_count": 172,
   "metadata": {},
   "outputs": [],
   "source": [
    "#Game Setup\n",
    "\n",
    "player1 = Player('One')\n",
    "player2 = Player('Two')\n",
    "\n",
    "new_deck = Deck()\n",
    "new_deck.shuffle_deck()\n",
    "\n",
    "for x in range(26):\n",
    "    player1.add_cards(new_deck.deal_one())                   #split the deck in half\n",
    "    player2.add_cards(new_deck.deal_one())"
   ]
  },
  {
   "cell_type": "code",
   "execution_count": 173,
   "metadata": {},
   "outputs": [
    {
     "data": {
      "text/plain": [
       "26"
      ]
     },
     "execution_count": 173,
     "metadata": {},
     "output_type": "execute_result"
    }
   ],
   "source": [
    "len(player1.all_cards)"
   ]
  },
  {
   "cell_type": "code",
   "execution_count": 174,
   "metadata": {},
   "outputs": [
    {
     "name": "stdout",
     "output_type": "stream",
     "text": [
      "Round 1\n",
      "Round 2\n",
      "Round 3\n",
      "Round 4\n",
      "Round 5\n",
      "Round 6\n",
      "Round 7\n",
      "Round 8\n",
      "Round 9\n",
      "Round 10\n",
      "Round 11\n",
      "Round 12\n",
      "Round 13\n",
      "Round 14\n",
      "Round 15\n",
      "Round 16\n",
      "Round 17\n",
      "Round 18\n",
      "Round 19\n",
      "Round 20\n",
      "Round 21\n",
      "Round 22\n",
      "Round 23\n",
      "Round 24\n",
      "Round 25\n",
      "Round 26\n",
      "Round 27\n",
      "WAR!!!\n",
      "Round 28\n",
      "Round 29\n",
      "WAR!!!\n",
      "Round 30\n",
      "Round 31\n",
      "Round 32\n",
      "Round 33\n",
      "Round 34\n",
      "Round 35\n",
      "Round 36\n",
      "Round 37\n",
      "Round 38\n",
      "Round 39\n",
      "Round 40\n",
      "WAR!!!\n",
      "Round 41\n",
      "Round 42\n",
      "Round 43\n",
      "Round 44\n",
      "Round 45\n",
      "Round 46\n",
      "Round 47\n",
      "Round 48\n",
      "Round 49\n",
      "Round 50\n",
      "Round 51\n",
      "Round 52\n",
      "Round 53\n",
      "Round 54\n",
      "Round 55\n",
      "Round 56\n",
      "Round 57\n",
      "Round 58\n",
      "Round 59\n",
      "Round 60\n",
      "Round 61\n",
      "Round 62\n",
      "Round 63\n",
      "Round 64\n",
      "Round 65\n",
      "Round 66\n",
      "Round 67\n",
      "Round 68\n",
      "Round 69\n",
      "Round 70\n",
      "Round 71\n",
      "Round 72\n",
      "Round 73\n",
      "Round 74\n",
      "Round 75\n",
      "Round 76\n",
      "Round 77\n",
      "Round 78\n",
      "Round 79\n",
      "Round 80\n",
      "Round 81\n",
      "Round 82\n",
      "Round 83\n",
      "Round 84\n",
      "Round 85\n",
      "Round 86\n",
      "Round 87\n",
      "WAR!!!\n",
      "Round 88\n",
      "Round 89\n",
      "Round 90\n",
      "Round 91\n",
      "Round 92\n",
      "Round 93\n",
      "Round 94\n",
      "Round 95\n",
      "Round 96\n",
      "Round 97\n",
      "Round 98\n",
      "Round 99\n",
      "Round 100\n",
      "Round 101\n",
      "Round 102\n",
      "Round 103\n",
      "Round 104\n",
      "Round 105\n",
      "Round 106\n",
      "Round 107\n",
      "Round 108\n",
      "Round 109\n",
      "Round 110\n",
      "Round 111\n",
      "Round 112\n",
      "Round 113\n",
      "WAR!!!\n",
      "Round 114\n",
      "Round 115\n",
      "Round 116\n",
      "Round 117\n",
      "Round 118\n",
      "WAR!!!\n",
      "Round 119\n",
      "Round 120\n",
      "WAR!!!\n",
      "Round 121\n",
      "Round 122\n",
      "Round 123\n",
      "Round 124\n",
      "Round 125\n",
      "Round 126\n",
      "Round 127\n",
      "Round 128\n",
      "Round 129\n",
      "Round 130\n",
      "Round 131\n",
      "Round 132\n",
      "Round 133\n",
      "Round 134\n",
      "Round 135\n",
      "Round 136\n",
      "Round 137\n",
      "Round 138\n",
      "Round 139\n",
      "Round 140\n",
      "WAR!!!\n",
      "Round 141\n",
      "Round 142\n",
      "Round 143\n",
      "Round 144\n",
      "Round 145\n",
      "Round 146\n",
      "Round 147\n",
      "Round 148\n",
      "Round 149\n",
      "Round 150\n",
      "Round 151\n",
      "Round 152\n",
      "Round 153\n",
      "Round 154\n",
      "Round 155\n",
      "Round 156\n",
      "Round 157\n",
      "Round 158\n",
      "Round 159\n",
      "Round 160\n",
      "Round 161\n",
      "Round 162\n",
      "Round 163\n",
      "Round 164\n",
      "Round 165\n",
      "Round 166\n",
      "Round 167\n",
      "Round 168\n",
      "Round 169\n",
      "Round 170\n",
      "Round 171\n",
      "Round 172\n",
      "Round 173\n",
      "Round 174\n",
      "Round 175\n",
      "Round 176\n",
      "Round 177\n",
      "Round 178\n",
      "Round 179\n",
      "WAR!!!\n",
      "Round 180\n",
      "Player 1 is out of cards! \n",
      "Player 2 wins!\n"
     ]
    }
   ],
   "source": [
    "#MAIN LOGIC\n",
    "\n",
    "round_no = 0                     #to count the round number\n",
    "game = True\n",
    "\n",
    "while game:\n",
    "    \n",
    "    round_no += 1\n",
    "    print(f'Round {round_no}')\n",
    "    \n",
    "    if len(player1.all_cards) == 0:             #total number of cards the player has\n",
    "        print('Player 1 is out of cards! \\nPlayer 2 wins!')\n",
    "        break\n",
    "    if len(player2.all_cards) == 0:\n",
    "        print('Player 2 is out of cards! \\nPlayer 1 wins!')\n",
    "        break\n",
    "    \n",
    "    #NEW-Round\n",
    "    player1_cards = []                          #list of cards on the table\n",
    "    player1_cards.append(player1.remove_one())\n",
    "    \n",
    "    player2_cards = []                        \n",
    "    player2_cards.append(player2.remove_one())\n",
    "\n",
    "    war = True\n",
    "    \n",
    "    while war:\n",
    "        \n",
    "        if player1_cards[-1].value > player2_cards[-1].value:\n",
    "            player1.add_cards(player1_cards)            #add the card back to deck\n",
    "            player1.add_cards(player2_cards)            #take player's card too\n",
    "            \n",
    "            war = False\n",
    "            \n",
    "        elif player2_cards[-1].value > player1_cards[-1].value:\n",
    "            player2.add_cards(player2_cards)\n",
    "            player2.add_cards(player1_cards)\n",
    "            \n",
    "            war = False\n",
    "            \n",
    "        else:\n",
    "            print('WAR!!!')\n",
    "            \n",
    "            if len(player1.all_cards) < 5:               #out of cards\n",
    "                print('\\nPlayer 1 unable to declare war! \\nPlayer 2 wins!')\n",
    "                \n",
    "                game = False\n",
    "                break\n",
    "            \n",
    "            elif len(player2.all_cards) < 5:\n",
    "                print('\\nPlayer 2 unable to declare war! \\nPlayer 1 wins!')\n",
    "\n",
    "                game = False\n",
    "                break\n",
    "                \n",
    "            else:\n",
    "                for n in range(5):\n",
    "                    player1_cards.append(player1.remove_one())         #draw 5 more cards\n",
    "                    player2_cards.append(player2.remove_one())"
   ]
  }
 ],
 "metadata": {
  "kernelspec": {
   "display_name": "Python 3",
   "language": "python",
   "name": "python3"
  },
  "language_info": {
   "codemirror_mode": {
    "name": "ipython",
    "version": 3
   },
   "file_extension": ".py",
   "mimetype": "text/x-python",
   "name": "python",
   "nbconvert_exporter": "python",
   "pygments_lexer": "ipython3",
   "version": "3.8.3"
  }
 },
 "nbformat": 4,
 "nbformat_minor": 4
}
